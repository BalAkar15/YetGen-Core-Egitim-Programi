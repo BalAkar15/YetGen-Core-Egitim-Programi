{
  "cells": [
    {
      "cell_type": "markdown",
      "metadata": {
        "id": "tsD4YVAe_Te2"
      },
      "source": [
        "# Problem 1\n",
        "Bir sayının 7'ye bölünebilir olup olmadığını kontrol etmek \n",
        "için bir program yazın.\n",
        "\n",
        "İpucu: Mod operatörünü (%) kullanabilirsiniz."
      ]
    },
    {
      "cell_type": "code",
      "execution_count": 9,
      "metadata": {
        "id": "NGjvNwKx_Te7"
      },
      "outputs": [
        {
          "name": "stdout",
          "output_type": "stream",
          "text": [
            "14 sayısı 7'ye tam bölünmektedir\n"
          ]
        }
      ],
      "source": [
        "# 1.Problemin Çözümünü Buraya Yazınız\n",
        "sayi = int(input(\"Sayıyı giriniz: \" ))\n",
        "if sayi % 7 == 0:\n",
        "    print(sayi , \"sayısı 7'ye tam bölünmektedir\")\n",
        "else:\n",
        "    print(sayi , \"sayısı 7'ye tam bölünememektedir\")"
      ]
    },
    {
      "cell_type": "markdown",
      "metadata": {
        "id": "Kg3qiBAI_Te8"
      },
      "source": [
        "# Problem 2\n",
        "Kullanıcıdan vize ve final notu isteyin. Girilen vize notunun %40’ı ve \n",
        "girilen finalnotunun ise %60’ı alınarak yıl sonu not ortalaması hesaplanacaktır. \n",
        "\n",
        "Bu not ortalaması eğer 85 ve üzeri ise AA, \n",
        "\n",
        "75 ve 85 arasında ise BA, \n",
        "\n",
        "70 ve 75 arasında ise BB, \n",
        "\n",
        "65 ve 70 arasında ise CB,\n",
        "\n",
        "60 ve 65 arasında ise CC,\n",
        "\n",
        "55 ve 60 arasında ise DC,\n",
        "\n",
        "50 ve 55 arasında ise DD olarak hesaplanacaktır. \n",
        "\n",
        "Bu öğrencinin yıl sonu toplam notu 50’nin altında ise FF ile dersten kalacaktır. \n",
        "\n",
        "Ayrıca öğrencinin final notu 50’nin altında ise direkt FF ile kalacaktır."
      ]
    },
    {
      "cell_type": "code",
      "execution_count": 14,
      "metadata": {
        "id": "MXTtCxI1_Te8"
      },
      "outputs": [
        {
          "name": "stdout",
          "output_type": "stream",
          "text": [
            "FF ile kaldınız\n"
          ]
        }
      ],
      "source": [
        "# 2.Problemin Çözümünü Buraya Yazınız\n",
        "vize = int(input(\"Vize notunuzu giriniz: \"))\n",
        "final = int(input(\"Final notunuzu giriniz: \"))\n",
        "yılSonu = vize * 0.4 + final * 0.6\n",
        "if final < 50:\n",
        "    print(\"FF ile kaldınız\")\n",
        "elif yılSonu >= 85:\n",
        "    print(\"AA aldınız\")\n",
        "elif yılSonu >= 75:\n",
        "    print(\"BA aldınız\")\n",
        "elif yılSonu >= 70:\n",
        "    print(\"BB aldınız\")\n",
        "elif yılSonu >= 65:\n",
        "    print(\"CB aldınız\")\n",
        "elif yılSonu >= 60:\n",
        "    print(\"CC aldınız\")\n",
        "elif yılSonu >= 55:\n",
        "    print(\"DC aldınız\")\n",
        "elif yılSonu >= 50:\n",
        "    print(\"DD aldınız\")\n",
        "else:\n",
        "    print(\"FF ile kaldınız\")"
      ]
    },
    {
      "cell_type": "markdown",
      "metadata": {
        "id": "tAoRYCTC_Te8"
      },
      "source": [
        "# Problem 3\n",
        "İki YetGenli Zirve'de karşılaşıyorlar. Birbirlerini tanımak için sorular soruyorlar. Birbirlerine yaşlarını soruyorlar. Akıllarına bir Python programı yazıp, yaşlarını ve isimlerini giriyorlar. Büyük olanın yaşını ekrana yazdıran programı yazıyorlar. Sende bu iki YetGenli'ye destek olmak ister misin?\n",
        "\n",
        "```\n",
        "Birinci YetGenlinin ismi: Ahmet\n",
        "Birinci YetGenlinin yaşı : 20\n",
        "İkinci YetGenlinin ismi: Mehmet\n",
        "İkinci YetGenlinin yaşı : 25\n",
        "Mehmet'in yaşı daha büyük ve yaşı 25'tir.\n",
        "```"
      ]
    },
    {
      "cell_type": "code",
      "execution_count": 16,
      "metadata": {
        "id": "bPjE8W0i_Te8"
      },
      "outputs": [
        {
          "name": "stdout",
          "output_type": "stream",
          "text": [
            "Şenol Mert kişisinin yaşı Ahmet Hakan kişisinin yaşından büyüktür ve yaşı 23 'dir\n"
          ]
        }
      ],
      "source": [
        "# 3.Problemin Çözümünü Buraya Yazınız\n",
        "birinciYetgenİsim = input(\"Birinci yetgenlinin ismini giriniz: \")\n",
        "birinciYetgenYas = int(input(\"Birinci yetgenlinin yaşını giriniz: \"))\n",
        "\n",
        "ikinciYetgenİsim = input(\"İkinci yetgenlinin ismini giriniz: \")\n",
        "ikinciYetgenYas = int(input(\"İkinci yetgenlinin yaşını giriniz: \"))\n",
        "\n",
        "if birinciYetgenYas > ikinciYetgenYas:\n",
        "    print(birinciYetgenİsim , \"kişisinin yaşı\" , ikinciYetgenİsim , \"kişisinin yaşından büyüktür ve yaşı\" , birinciYetgenYas , \"'dir\")\n",
        "elif birinciYetgenYas < ikinciYetgenYas:\n",
        "    print(ikinciYetgenİsim , \"kişisinin yaşı\" , birinciYetgenİsim , \"kişisinin yaşından büyüktür ve yaşı\" , ikinciYetgenYas , \"'dir\")\n",
        "else:\n",
        "    print(birinciYetgenİsim , \"kişisinin yaşı ile\" , ikinciYetgenİsim , \"kişisinin yaşı birbirine eşittir ve\" , birinciYetgenYas , \"'dir\")"
      ]
    },
    {
      "cell_type": "markdown",
      "metadata": {
        "id": "zBVv8Tyg_Te9"
      },
      "source": [
        "# Problem 4\n",
        "Pandemi döneminde AVM'lerde ateş ölçümü yapılıyor. AVM'ye giren kişinin ateş ölçümü 37.5 derecenin altında ise girişe izin veriliyor. 37.5 derecenin üstünde ise girişe izin verilmiyor. AVM'ye girişe izin verilip verilmediğini ekrana yazdıran bir program yazın.\n",
        "\n",
        "Program sonunda şöyle bir çıktı elde etmelisiniz:\n",
        "\n",
        "```\n",
        "Ateşiniz 37.5 derece. AVM'ye girebilirsin! Maske takmayı unutma!\n",
        "Ateşiniz 37.6 derece. AVM'ye giremezsin! Hemen evine dön!\n",
        "```"
      ]
    },
    {
      "cell_type": "code",
      "execution_count": 19,
      "metadata": {
        "id": "TSAXs8et_Te9"
      },
      "outputs": [
        {
          "name": "stdout",
          "output_type": "stream",
          "text": [
            "Ateşiniz 36.3 derece. AVM'ye girebilirsin! Maske takmayı unutma!\n"
          ]
        }
      ],
      "source": [
        "# 4.Problemin Çözümünü Buraya Yazınız\n",
        "ates = float(input(\"Ateşiniz: \"))\n",
        "if ates >= 37.5:\n",
        "    print(f\"Ateşiniz {ates} derece. AVM'ye giremezsin! Hemen evine dön\")\n",
        "else:\n",
        "    print(f\"Ateşiniz {ates} derece. AVM'ye girebilirsin! Maske takmayı unutma!\")"
      ]
    },
    {
      "attachments": {},
      "cell_type": "markdown",
      "metadata": {
        "id": "6AEkZrDt_Te9"
      },
      "source": [
        "# Problem 5\n",
        "YetGen bir spor kulübüyle sponsorluk anlaşması yapıyor. Kulüp, sponsorluk anlaşmasına göre her YetGen liderinin beden kitle indeksini hesaplamak istiyor. Spor kulübü, beden kitle indeksini hesaplamak için YetGen Jump Python liderlerinden Berkcan ve Ahmet'i arıyor. Berkcan ve Ahmet, kulübe yardımcı olmak için bir Python programı yazıyorlar. Sen de bu iki YetGen liderine destek olmak ister misin?\n",
        "\n",
        "Kullanıcıdan alınan boy ve kilo değerlerine göre beden kitle indeksini hesaplayın ve şu kurallara göre ekrana şu yazıları yazdırın.\n",
        "\n",
        "\n",
        "Beden Kitle İndeksi, kişinin ağırlığının (kg olarak) boyunun karesine (m olarak) bölünmesiyle hesaplanır.\n",
        "\n",
        "\n",
        "```\n",
        " BKİ 18.5'un altındaysa -------> Zayıf\n",
        "\n",
        " BKİ 18.5 ile 25 arasındaysa ------> Normal\n",
        "\n",
        " BKİ 25 ile 30 arasındaysa --------> Fazla Kilolu\n",
        "\n",
        " BKİ 30'un üstündeyse -------------> Obez\n",
        "```\n",
        "\n"
      ]
    },
    {
      "cell_type": "code",
      "execution_count": 23,
      "metadata": {
        "id": "t-XPI_u0_Te-"
      },
      "outputs": [
        {
          "name": "stdout",
          "output_type": "stream",
          "text": [
            "BKİ'niz 21.604938271604937 ve normalsiniz\n"
          ]
        }
      ],
      "source": [
        "# 5.Problemin Çözümünü Buraya Yazınız\n",
        "boy = float(input(\"Lütfen boyunuzu 'm' cinsinden giriniz: \"))\n",
        "vucutAgirligi = float(input(\"Lütfen vücut ağırlığınızı 'kg' cinsinden giriniz: \"))\n",
        "bki = vucutAgirligi / (boy ** 2)\n",
        "\n",
        "if bki < 18.5:\n",
        "    print(f\"BKİ'niz {bki} ve zayıfsınız\")\n",
        "elif 18.5 <= bki < 25:\n",
        "    print(f\"BKİ'niz {bki} ve normalsiniz\")\n",
        "elif  25<= bki < 30:\n",
        "    print(f\"BKİ'niz {bki} ve fazla kilolusunuz\")\n",
        "else: \n",
        "    print(f\"BKİ'niz {bki} ve obezsiniz\")\n"
      ]
    },
    {
      "cell_type": "markdown",
      "metadata": {
        "id": "oFsvQyaO_Te-"
      },
      "source": [
        "# Problem 6\n",
        "Kullanıcıdan isim, yaş ve eğitim bilgilerini isteyip ehliyet alabilme  durumunu kontrol ediniz. \n",
        "\n",
        "Ehliyet alma koşulu en az 18 yaşında ve eğitim durumu lise ya da üniversite olmalıdır. "
      ]
    },
    {
      "cell_type": "code",
      "execution_count": 33,
      "metadata": {
        "id": "Tu2mcgco_Te-"
      },
      "outputs": [
        {
          "name": "stdout",
          "output_type": "stream",
          "text": [
            "şenol mert ehliyet alabilirsin\n"
          ]
        }
      ],
      "source": [
        "# 6.Problemin Çözümünü Buraya Yazınız\n",
        "isim = input(\"İsminizi giriniz: \")\n",
        "yas = int(input(\"Yaşınızı giriniz: \"))\n",
        "egitim = input(\"Eğitim durumunuzu giriniz: \")\n",
        "\n",
        "if yas >= 18 and egitim == \"lise\":\n",
        "    print(f\"{isim} ehliyet alabilirsin\")\n",
        "elif yas >= 18 and egitim == \"üniversite\":\n",
        "    print(f\"{isim} ehliyet alabilirsin\")\n",
        "else: \n",
        "    print(f\"{isim} ehliyet alamazsın\")"
      ]
    },
    {
      "cell_type": "markdown",
      "metadata": {
        "id": "eUkxVSAE_Te_"
      },
      "source": [
        "# Problem 7\n",
        "Bir yılın artık yıl olup olmadığını kontrol etmek için bir program yazın. \n",
        "Artık yıl kuralı:\n",
        "\n",
        "a) Eğer yılın son iki basamağı (00) ile bitmiyor ve yalnızca 4'e tam bölünüyorsa artık yıldır. Ya da, \n",
        "\n",
        "b) Eğer yıl 400'e tam bölünüyorsa artık yıldır.\n",
        "\n",
        "**Örneğin**\n",
        "```\n",
        "2017 artık yıl değildir.\n",
        "1900 artık yıl değildir\n",
        "2012 artık yıldır.\n",
        "2000 artık yıldır.\n",
        "```"
      ]
    },
    {
      "cell_type": "code",
      "execution_count": 43,
      "metadata": {
        "id": "4uWh8qUL_Te_"
      },
      "outputs": [
        {
          "name": "stdout",
          "output_type": "stream",
          "text": [
            "2023 yılı artık yıl değildir.\n"
          ]
        }
      ],
      "source": [
        "# 7.Problemin Çözümünü Buraya Yazınız\n",
        "yıl = int(input(\"Yılı giriniz: \"))\n",
        "\n",
        "if yıl % 4 == 0 and yıl % 100 != 0:\n",
        "    print(f\"{yıl} yılı artık yıldır.\")\n",
        "elif yıl % 400 == 0:\n",
        "    print(f\"{yıl} yılı artık yıldır.\")\n",
        "else:\n",
        "    print(f\"{yıl} yılı artık yıl değildir.\")\n",
        "\n"
      ]
    },
    {
      "cell_type": "code",
      "execution_count": null,
      "metadata": {},
      "outputs": [],
      "source": [
        "\n"
      ]
    }
  ],
  "metadata": {
    "colab": {
      "provenance": []
    },
    "kernelspec": {
      "display_name": "Python 3.10.5 64-bit",
      "language": "python",
      "name": "python3"
    },
    "language_info": {
      "codemirror_mode": {
        "name": "ipython",
        "version": 3
      },
      "file_extension": ".py",
      "mimetype": "text/x-python",
      "name": "python",
      "nbconvert_exporter": "python",
      "pygments_lexer": "ipython3",
      "version": "3.9.13"
    },
    "orig_nbformat": 4,
    "vscode": {
      "interpreter": {
        "hash": "5026d2d6e7aaaaba093def813beadff083d8733e4a511af01735cbabd156995d"
      }
    }
  },
  "nbformat": 4,
  "nbformat_minor": 0
}
