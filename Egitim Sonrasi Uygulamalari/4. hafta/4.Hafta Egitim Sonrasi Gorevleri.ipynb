{
 "cells": [
  {
   "cell_type": "markdown",
   "metadata": {},
   "source": [
    "# Problem 1\n",
    "`ogrenciler` adında bir sözlük oluşturunuz. Kullanıcıdan döngü yardımıyla 3 öğrenci için veri girmesini isteyerek öğrencilerin sırasıyla okul numarası, isim, soy isim, telefon numarası ve doğum tarihi bilgilerini alınız. Aldığınız öğrenci bilgilerini yine aynı döngü yardımıyla `ogrenciler` adındaki sözlükte saklayınız. Daha sonra öğrenci bilgilerinin bulunduğu sözlük yapısını ekrana bastırınız.\n",
    "\n"
   ]
  },
  {
   "cell_type": "code",
   "execution_count": 1,
   "metadata": {},
   "outputs": [
    {
     "data": {
      "text/plain": [
       "{'ahmet': ['23', 'ahmet', 'duman', '05446542312', '13.03.1997'],\n",
       " 'mehmet': ['24', 'mehmet', 'yılmaz', '05463445678', '12.06.1998'],\n",
       " 'senol mert': ['28', 'senol mert', 'duman', '05303760793', '13.06.1999']}"
      ]
     },
     "execution_count": 1,
     "metadata": {},
     "output_type": "execute_result"
    }
   ],
   "source": [
    "# 1.Problemin Çözümünü Buraya Yazınız\n",
    "ogrenciler = {}\n",
    "n = int(input(\"Öğrenci sayısını giriniz: \"))\n",
    "for i in range(n):\n",
    "    ogrenciAdi = input(\"Öğrenci ismini giriniz: \")\n",
    "    ogrenciValues = []\n",
    "\n",
    "    okulNumara = input(\"Öğrencinin okul numarasını giriniz: \")\n",
    "    ogrenciValues.append(okulNumara)\n",
    "    ogrenciValues.append(ogrenciAdi)\n",
    "    soyisim = input(\"Öğrencinin soyismini giriniz: \")\n",
    "    ogrenciValues.append(soyisim)\n",
    "    telefonNumara = input(\"Öğrencinin telefon numarasını giriniz: \")\n",
    "    ogrenciValues.append(telefonNumara)\n",
    "    dogumTarihi = input(\"Öğrencinin doğum tarihini giriniz: \")\n",
    "    ogrenciValues.append(dogumTarihi)\n",
    "    ogrenciler[ogrenciAdi] = ogrenciValues\n",
    "ogrenciler\n",
    "\n",
    "\n",
    "\n",
    "\n"
   ]
  },
  {
   "cell_type": "markdown",
   "metadata": {},
   "source": [
    "# Problem 2\n",
    "\n",
    "### a - Biraz ısınarak başlayalım!\n",
    "\n",
    "```\n",
    "numbers = [5,10,10,15,15,15,20,20,20,20]\n",
    "```\n",
    "\n",
    "Yukarıda `numbers` adında 10 elemanlı bir liste verilmiştir. Bu listenin her elemanını kontrol eden ve tekrar eden elemanları bir kez olacak şekilde başka bir listeye kopyalayan bir program yazınız. Son olarak oluşturduğunuz listeyi ekrana bastırınız.\n",
    "\n",
    "\n",
    "\n",
    "\n",
    "```\n",
    ">Output\n",
    "[5, 10, 15, 20]\n",
    "```\n"
   ]
  },
  {
   "cell_type": "code",
   "execution_count": 13,
   "metadata": {},
   "outputs": [
    {
     "data": {
      "text/plain": [
       "[10, 20, 15]"
      ]
     },
     "execution_count": 13,
     "metadata": {},
     "output_type": "execute_result"
    }
   ],
   "source": [
    "# 2.Problemin a Şıkkının Çözümünü Buraya Yazınız\n",
    "numbers = [5,10,10,15,15,15,20,20,20,20]\n",
    "tekrarEdenler = []\n",
    "for i in numbers:\n",
    "    if numbers.count(i) >= 2:\n",
    "        tekrarEdenler.append(i)\n",
    "tekrarEdenler = list(set(tekrarEdenler))\n",
    "tekrarEdenler"
   ]
  },
  {
   "cell_type": "code",
   "execution_count": 14,
   "metadata": {},
   "outputs": [
    {
     "data": {
      "text/plain": [
       "[10, 15, 20]"
      ]
     },
     "execution_count": 14,
     "metadata": {},
     "output_type": "execute_result"
    }
   ],
   "source": [
    "# 2.Yol\n",
    "numbers = [5,10,10,15,15,15,20,20,20,20]\n",
    "tekrarEdenler = []\n",
    "for i in numbers:\n",
    "    if numbers.count(i) >= 2:\n",
    "        if i not in tekrarEdenler:\n",
    "            tekrarEdenler.append(i)\n",
    "tekrarEdenler\n",
    "\n"
   ]
  },
  {
   "cell_type": "markdown",
   "metadata": {},
   "source": [
    "### 🌶️ b) Hadi işi biraz daha zorlaştıralım! \n",
    "\n",
    "\n",
    "Şimdiyse senden `numbers` isimli listedeki tekrar eden elemanları `repeatNumbers` adındaki listeye; tekrar etmeyen elemanları `uniqueNumbers`adındaki listeye kopyalayan yazmanı ve listeleri ekrana bastırmanı bekliyoruz\n",
    "\n",
    "```\n",
    ">Output\n",
    "Tekrar Eden Elemanlar: [10, 10, 15, 15, 15, 20, 20, 20, 20]\n",
    "Tekrar Etmeyen Elemanlar: [5]\n",
    "```"
   ]
  },
  {
   "cell_type": "code",
   "execution_count": 18,
   "metadata": {},
   "outputs": [
    {
     "name": "stdout",
     "output_type": "stream",
     "text": [
      "Tekrar eden elemanlar:  [10, 10, 15, 15, 15, 20, 20, 20, 20]\n",
      "Tekrar etmeyen elemanlar [5]\n"
     ]
    }
   ],
   "source": [
    "# 2.Problemin b Şıkkının Çözümünü Buraya Yazınız\n",
    "numbers = [5,10,10,15,15,15,20,20,20,20]\n",
    "repeatNumbers = []\n",
    "uniqueNumbers = []\n",
    "for i in numbers:\n",
    "    if numbers.count(i) >= 2:\n",
    "        repeatNumbers.append(i)\n",
    "    elif numbers.count(i) == 1:\n",
    "        uniqueNumbers.append(i)\n",
    "print(\"Tekrar eden elemanlar: \" , repeatNumbers)\n",
    "print(\"Tekrar etmeyen elemanlar\" , uniqueNumbers)"
   ]
  },
  {
   "cell_type": "markdown",
   "metadata": {},
   "source": [
    "# Problem 3\n",
    "sn1 = {1,2,3,4,5}\n",
    "\n",
    "sn2 = {4,5,6,7,8}\n",
    "\n",
    " Verilen 2 adet küme için kesişimlerini, farklarını ve birleşimlerini bulunuz. "
   ]
  },
  {
   "cell_type": "code",
   "execution_count": 22,
   "metadata": {},
   "outputs": [
    {
     "name": "stdout",
     "output_type": "stream",
     "text": [
      "{4, 5}\n",
      "{1, 2, 3}\n",
      "{8, 6, 7}\n",
      "{1, 2, 3, 4, 5, 6, 7, 8}\n"
     ]
    }
   ],
   "source": [
    "# 3.Problemin Çözümünü Buraya Yazınız\n",
    "sn1 = {1,2,3,4,5}\n",
    "sn2 = {4,5,6,7,8}\n",
    "\n",
    "print(sn1.intersection(sn2))\n",
    "print(sn1 - sn2)\n",
    "print(sn2 - sn1)\n",
    "print(sn1.union(sn2))"
   ]
  },
  {
   "cell_type": "markdown",
   "metadata": {},
   "source": [
    "# Problem 4\n",
    "\n",
    "Buradaki işlemlerimizin tamamı stringler içindir. Aşağıda verilecek olan metodlar için kendinizin örnek yaratması gerekmektedir. \n",
    "\n",
    "Örneğin `upper` için `string` değişkeni oluştururken` k = \"BAC\"` şeklinde oluşturmayınız. Bunun yerine k değişkenini `k = \"bac`\" şeklinde oluşturmanız `upper` metodundaki değişimi görebilmeniz için daha iyi olacaktır.\n",
    "\n",
    "Bütün metodlardaki değişimin gözle görülür şekilde değişimi beklenmektedir.\n",
    "\n",
    "\n",
    "1- capitalize(), lower(), upper(), swapcase(), title(), replace()\n",
    "\n",
    "2- endswith(), startswith(), find(), index(), count()\n",
    "\n",
    "3- split(), strip(), join(), islower(), isalpha(), isdigit()\n",
    "\n",
    "\n",
    "Yukarıdaki `string` metodlarındaki değişimleri görebildiğimiz bir program yazınız.\n"
   ]
  },
  {
   "cell_type": "code",
   "execution_count": 63,
   "metadata": {},
   "outputs": [
    {
     "name": "stdout",
     "output_type": "stream",
     "text": [
      "Senol\n",
      "SENOL\n",
      "mert\n",
      "dUmAn\n",
      "Senol Mert Duman\n",
      "senol mert duman\n",
      "True\n",
      "True\n",
      "1\n",
      "13\n",
      "2\n",
      "['senol', 'mert', 'aydın']\n",
      "senol mert duman\n",
      "s e n o l\n",
      "True\n",
      "True\n",
      "False\n",
      "False\n",
      "False\n",
      "True\n"
     ]
    }
   ],
   "source": [
    "# 4.Problemin Çözümünü Buraya Yazınız\n",
    "a = \"senol\"\n",
    "print(a.capitalize())\n",
    "print(a.upper())\n",
    "b = \"MERT\"\n",
    "print(b.lower())\n",
    "c = \"DuMaN\"\n",
    "print(c.swapcase())\n",
    "d = \"senol mert duman\"\n",
    "print(d.title())\n",
    "e = \"senol mert aydın\"\n",
    "print(e.replace(\"aydın\",\"duman\"))\n",
    "print(e.endswith(\"aydın\"))\n",
    "print(e.startswith(\"senol\"))\n",
    "print(e.find(\"e\"))\n",
    "print(e.index(\"d\"))\n",
    "print(e.count(\"e\"))\n",
    "print(e.split(\" \"))\n",
    "f = \"--------senol mert duman-------\"\n",
    "print(f.strip(\"-\"))\n",
    "g = [\"s\" , \"e\" , \"n\" , \"o\" , \"l\"]\n",
    "print(\" \". join(g))\n",
    "h = \"senol\"\n",
    "print(h.islower())\n",
    "str1 = \"abcde\"\n",
    "str2 = \"a12bf4e\"\n",
    "print(str1.isalpha())\n",
    "print(str2.isalpha())\n",
    "o = \"asddsa\"\n",
    "p = \"a232cdcdv\"\n",
    "r = \"1345632\"\n",
    "print(o.isdigit())\n",
    "print(p.isdigit())\n",
    "print(r.isdigit())\n",
    "\n",
    "\n"
   ]
  }
 ],
 "metadata": {
  "kernelspec": {
   "display_name": "Python 3.10.5 64-bit",
   "language": "python",
   "name": "python3"
  },
  "language_info": {
   "codemirror_mode": {
    "name": "ipython",
    "version": 3
   },
   "file_extension": ".py",
   "mimetype": "text/x-python",
   "name": "python",
   "nbconvert_exporter": "python",
   "pygments_lexer": "ipython3",
   "version": "3.11.2"
  },
  "orig_nbformat": 4,
  "vscode": {
   "interpreter": {
    "hash": "5026d2d6e7aaaaba093def813beadff083d8733e4a511af01735cbabd156995d"
   }
  }
 },
 "nbformat": 4,
 "nbformat_minor": 2
}
